{
 "cells": [
  {
   "cell_type": "code",
   "execution_count": 56,
   "metadata": {},
   "outputs": [
    {
     "data": {
      "text/html": [
       "<div>\n",
       "<style scoped>\n",
       "    .dataframe tbody tr th:only-of-type {\n",
       "        vertical-align: middle;\n",
       "    }\n",
       "\n",
       "    .dataframe tbody tr th {\n",
       "        vertical-align: top;\n",
       "    }\n",
       "\n",
       "    .dataframe thead th {\n",
       "        text-align: right;\n",
       "    }\n",
       "</style>\n",
       "<table border=\"1\" class=\"dataframe\">\n",
       "  <thead>\n",
       "    <tr style=\"text-align: right;\">\n",
       "      <th></th>\n",
       "      <th>index1</th>\n",
       "      <th>index2</th>\n",
       "      <th>index3</th>\n",
       "      <th>County</th>\n",
       "      <th>Year</th>\n",
       "      <th>ShelterID</th>\n",
       "      <th>BusName</th>\n",
       "      <th>City</th>\n",
       "      <th>Zip</th>\n",
       "      <th>License Type</th>\n",
       "      <th>...</th>\n",
       "      <th>BegInvOther</th>\n",
       "      <th>OtherRec</th>\n",
       "      <th>OtherAdopt</th>\n",
       "      <th>OtherReclaim</th>\n",
       "      <th>OtherEuth</th>\n",
       "      <th>EndInvOther</th>\n",
       "      <th>AllRec</th>\n",
       "      <th>AllAdopt</th>\n",
       "      <th>AllReclaim</th>\n",
       "      <th>AllEuth</th>\n",
       "    </tr>\n",
       "  </thead>\n",
       "  <tbody>\n",
       "    <tr>\n",
       "      <th>0</th>\n",
       "      <td>0</td>\n",
       "      <td>0</td>\n",
       "      <td>0</td>\n",
       "      <td>Adams</td>\n",
       "      <td>2012.0</td>\n",
       "      <td>5531</td>\n",
       "      <td>Adams County Animal Shelter</td>\n",
       "      <td>Quincy</td>\n",
       "      <td>62305</td>\n",
       "      <td>Animal Control</td>\n",
       "      <td>...</td>\n",
       "      <td>0.0</td>\n",
       "      <td>1.0</td>\n",
       "      <td>0.0</td>\n",
       "      <td>1.0</td>\n",
       "      <td>0.0</td>\n",
       "      <td>0</td>\n",
       "      <td>142.0</td>\n",
       "      <td>82.0</td>\n",
       "      <td>60.0</td>\n",
       "      <td>1.0</td>\n",
       "    </tr>\n",
       "    <tr>\n",
       "      <th>1</th>\n",
       "      <td>1</td>\n",
       "      <td>1</td>\n",
       "      <td>1</td>\n",
       "      <td>Adams</td>\n",
       "      <td>2010.0</td>\n",
       "      <td>5531</td>\n",
       "      <td>Adams County Animal Shelter</td>\n",
       "      <td>Quincy</td>\n",
       "      <td>62305</td>\n",
       "      <td>Animal Control</td>\n",
       "      <td>...</td>\n",
       "      <td>0.0</td>\n",
       "      <td>10.0</td>\n",
       "      <td>4.0</td>\n",
       "      <td>1.0</td>\n",
       "      <td>5.0</td>\n",
       "      <td>0</td>\n",
       "      <td>331.0</td>\n",
       "      <td>253.0</td>\n",
       "      <td>66.0</td>\n",
       "      <td>12.0</td>\n",
       "    </tr>\n",
       "    <tr>\n",
       "      <th>2</th>\n",
       "      <td>2</td>\n",
       "      <td>2</td>\n",
       "      <td>2</td>\n",
       "      <td>Adams</td>\n",
       "      <td>2011.0</td>\n",
       "      <td>5531</td>\n",
       "      <td>Adams County Animal Shelter</td>\n",
       "      <td>Quincy</td>\n",
       "      <td>62305</td>\n",
       "      <td>Animal Control</td>\n",
       "      <td>...</td>\n",
       "      <td>0.0</td>\n",
       "      <td>10.0</td>\n",
       "      <td>1.0</td>\n",
       "      <td>0.0</td>\n",
       "      <td>9.0</td>\n",
       "      <td>0</td>\n",
       "      <td>267.0</td>\n",
       "      <td>154.0</td>\n",
       "      <td>95.0</td>\n",
       "      <td>18.0</td>\n",
       "    </tr>\n",
       "    <tr>\n",
       "      <th>3</th>\n",
       "      <td>3</td>\n",
       "      <td>3</td>\n",
       "      <td>3</td>\n",
       "      <td>Adams</td>\n",
       "      <td>2014.0</td>\n",
       "      <td>5531</td>\n",
       "      <td>Adams County Animal Shelter</td>\n",
       "      <td>Quincy</td>\n",
       "      <td>62305</td>\n",
       "      <td>Animal Control</td>\n",
       "      <td>...</td>\n",
       "      <td>0.0</td>\n",
       "      <td>1.0</td>\n",
       "      <td>1.0</td>\n",
       "      <td>0.0</td>\n",
       "      <td>0.0</td>\n",
       "      <td>0</td>\n",
       "      <td>197.0</td>\n",
       "      <td>78.0</td>\n",
       "      <td>86.0</td>\n",
       "      <td>9.0</td>\n",
       "    </tr>\n",
       "    <tr>\n",
       "      <th>4</th>\n",
       "      <td>4</td>\n",
       "      <td>4</td>\n",
       "      <td>4</td>\n",
       "      <td>Adams</td>\n",
       "      <td>2012.0</td>\n",
       "      <td>13357</td>\n",
       "      <td>City of Quincy Animal Shelter</td>\n",
       "      <td>Quincy</td>\n",
       "      <td>62301</td>\n",
       "      <td>Animal Control</td>\n",
       "      <td>...</td>\n",
       "      <td>0.0</td>\n",
       "      <td>6.0</td>\n",
       "      <td>4.0</td>\n",
       "      <td>0.0</td>\n",
       "      <td>2.0</td>\n",
       "      <td>0</td>\n",
       "      <td>1029.0</td>\n",
       "      <td>521.0</td>\n",
       "      <td>286.0</td>\n",
       "      <td>222.0</td>\n",
       "    </tr>\n",
       "  </tbody>\n",
       "</table>\n",
       "<p>5 rows × 37 columns</p>\n",
       "</div>"
      ],
      "text/plain": [
       "   index1  index2  index3 County    Year ShelterID  \\\n",
       "0       0       0       0  Adams  2012.0      5531   \n",
       "1       1       1       1  Adams  2010.0      5531   \n",
       "2       2       2       2  Adams  2011.0      5531   \n",
       "3       3       3       3  Adams  2014.0      5531   \n",
       "4       4       4       4  Adams  2012.0     13357   \n",
       "\n",
       "                         BusName    City    Zip    License Type   ...     \\\n",
       "0    Adams County Animal Shelter  Quincy  62305  Animal Control   ...      \n",
       "1    Adams County Animal Shelter  Quincy  62305  Animal Control   ...      \n",
       "2    Adams County Animal Shelter  Quincy  62305  Animal Control   ...      \n",
       "3    Adams County Animal Shelter  Quincy  62305  Animal Control   ...      \n",
       "4  City of Quincy Animal Shelter  Quincy  62301  Animal Control   ...      \n",
       "\n",
       "   BegInvOther  OtherRec  OtherAdopt  OtherReclaim  OtherEuth  EndInvOther  \\\n",
       "0          0.0       1.0         0.0           1.0        0.0            0   \n",
       "1          0.0      10.0         4.0           1.0        5.0            0   \n",
       "2          0.0      10.0         1.0           0.0        9.0            0   \n",
       "3          0.0       1.0         1.0           0.0        0.0            0   \n",
       "4          0.0       6.0         4.0           0.0        2.0            0   \n",
       "\n",
       "   AllRec  AllAdopt  AllReclaim  AllEuth  \n",
       "0   142.0      82.0        60.0      1.0  \n",
       "1   331.0     253.0        66.0     12.0  \n",
       "2   267.0     154.0        95.0     18.0  \n",
       "3   197.0      78.0        86.0      9.0  \n",
       "4  1029.0     521.0       286.0    222.0  \n",
       "\n",
       "[5 rows x 37 columns]"
      ]
     },
     "execution_count": 56,
     "metadata": {},
     "output_type": "execute_result"
    }
   ],
   "source": [
    "#import dependencies\n",
    "import matplotlib.pyplot as plt\n",
    "import numpy as np\n",
    "import pandas as pd\n",
    "#read csv \n",
    "animal_data = pd.read_csv(\"Animal Shelter skinniest.csv\", sep=',', encoding='latin-1')\n",
    "animal_data = animal_data.fillna(0)\n",
    "animal_data.head()"
   ]
  },
  {
   "cell_type": "code",
   "execution_count": 57,
   "metadata": {},
   "outputs": [
    {
     "name": "stdout",
     "output_type": "stream",
     "text": [
      "1017935.0\n",
      "498999.0\n",
      "107452.0\n",
      "281895.0\n"
     ]
    }
   ],
   "source": [
    "#Sum of Recieved, Adopted, Reclaim, and Euth\n",
    "TotalRecieved = animal_data['AllRec'].sum()\n",
    "TotalAdopted = animal_data['AllAdopt'].sum()\n",
    "TotalReclaim = animal_data['AllReclaim'].sum()\n",
    "TotalKilled = animal_data['AllEuth'].sum()\n",
    "\n",
    "print(TotalRecieved)\n",
    "print(TotalAdopted)\n",
    "print(TotalReclaim)\n",
    "print(TotalKilled)"
   ]
  },
  {
   "cell_type": "code",
   "execution_count": 58,
   "metadata": {},
   "outputs": [
    {
     "data": {
      "text/plain": [
       "<function matplotlib.pyplot.show(*args, **kw)>"
      ]
     },
     "execution_count": 58,
     "metadata": {},
     "output_type": "execute_result"
    },
    {
     "data": {
      "image/png": "[encoded data removed]",
      "text/plain": [
       "<Figure size 432x288 with 1 Axes>"
      ]
     },
     "metadata": {},
     "output_type": "display_data"
    }
   ],
   "source": [
    "#Make pie graph\n",
    "categories = ('Adopted',\n",
    "          'Reclaimed',\n",
    "          'Euthanized')\n",
    "totals = [ TotalAdopted, TotalReclaim, TotalKilled]\n",
    "colors = ['yellowgreen','lightskyblue','lightcoral']\n",
    "\n",
    "fig1, ax1 = plt.subplots()\n",
    "ax1.pie(totals, colors=colors, shadow = True, startangle= 90, labels=categories)\n",
    "plt.title('Breakdown of Pets Recieved')\n",
    "plt.show"
   ]
  },
  {
   "cell_type": "code",
   "execution_count": 74,
   "metadata": {},
   "outputs": [
    {
     "name": "stdout",
     "output_type": "stream",
     "text": [
      "13845.0\n",
      "667.0\n",
      "17618.0\n"
     ]
    }
   ],
   "source": [
    "#Breakdown by Type\n",
    "DogsAdopt = animal_data['DogAdopt'].sum()\n",
    "DogsReclaim = animal_data['DogReclaim'].sum()\n",
    "DogsEuth = animal_data['DogEuth'].sum()\n",
    "\n",
    "# print(DogsAdopt)\n",
    "# print(DogsReclaim)\n",
    "# print(DogsEuth)\n",
    "\n",
    "CatsAdopt = animal_data['CatsAdopt'].sum()\n",
    "CatsReclaim = animal_data['CatsReclaim'].sum()\n",
    "CatsEuth = animal_data['CatEuth'].sum()\n",
    "\n",
    "# print(CatsAdopt)\n",
    "# print(CatsReclaim)\n",
    "# print(CatsEuth)\n",
    "\n",
    "OtherAdopt = animal_data['OtherAdopt'].sum()\n",
    "OtherReclaim = animal_data['OtherReclaim'].sum()\n",
    "OtherEuth = animal_data['OtherEuth'].sum()\n",
    "\n",
    "print(OtherAdopt)\n",
    "print(OtherReclaim)\n",
    "print(OtherEuth)"
   ]
  },
  {
   "cell_type": "code",
   "execution_count": 75,
   "metadata": {},
   "outputs": [
    {
     "data": {
      "text/plain": [
       "<BarContainer object of 3 artists>"
      ]
     },
     "execution_count": 75,
     "metadata": {},
     "output_type": "execute_result"
    },
    {
     "data": {
      "image/png": "[encoded data removed]",
      "text/plain": [
       "<Figure size 432x288 with 1 Axes>"
      ]
     },
     "metadata": {},
     "output_type": "display_data"
    }
   ],
   "source": [
    "#Make stacked bar graph for adopted, reclaimed, and euth by ty\n",
    "DogBar = [286327, 95045, 109898]\n",
    "CatBar = [198522, 12121, 154693]\n",
    "OtherBar = [13845, 667, 17618]\n",
    "x = np.arange(len(DogBar))\n",
    "\n",
    "plt.bar(x, DogBar, color = 'yellowgreen', align='center')\n",
    "plt.bar(x, CatBar, color = 'lightskyblue', bottom=DogBar)\n",
    "plt.bar(x,OtherBar, color = 'lightcoral', bottom = list(map(lambda x,y: x+y, DogBar, CatBar)))"
   ]
  },
  {
   "cell_type": "code",
   "execution_count": 76,
   "metadata": {},
   "outputs": [
    {
     "data": {
      "text/plain": [
       "<function matplotlib.pyplot.show(*args, **kw)>"
      ]
     },
     "execution_count": 76,
     "metadata": {},
     "output_type": "execute_result"
    },
    {
     "data": {
      "image/png": "[encoded data removed]",
      "text/plain": [
       "<Figure size 432x288 with 1 Axes>"
      ]
     },
     "metadata": {},
     "output_type": "display_data"
    }
   ],
   "source": [
    "#Make stacked bar graph for adopted, reclaimed, and euth by type\n",
    "totals = [ '498999', '107452', '281895']\n",
    "y_pos = np.arange(len(totals))\n",
    "categories = (\n",
    "          'TotalAdopted',\n",
    "          'TotalReclaim',\n",
    "          'TotalKilled')\n",
    "\n",
    "plt.bar(y_pos, totals, color = 'r', alpha = 0.5, align = 'center')\n",
    "plt.xticks(y_pos, categories)\n",
    "plt.ylabel('Number of Pets')\n",
    "plt.title('Type of Pets Adopted, Reclaimed, and Euthanized')\n",
    "\n",
    "plt.show"
   ]
  },
  {
   "cell_type": "code",
   "execution_count": null,
   "metadata": {},
   "outputs": [],
   "source": [
    "# how do we save these "
   ]
  }
 ],
 "metadata": {
  "kernelspec": {
   "display_name": "Python 3",
   "language": "python",
   "name": "python3"
  },
  "language_info": {
   "codemirror_mode": {
    "name": "ipython",
    "version": 3
   },
   "file_extension": ".py",
   "mimetype": "text/x-python",
   "name": "python",
   "nbconvert_exporter": "python",
   "pygments_lexer": "ipython3",
   "version": "3.6.5"
  }
 },
 "nbformat": 4,
 "nbformat_minor": 2
}
