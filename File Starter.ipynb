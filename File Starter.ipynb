{
 "cells": [
  {
   "cell_type": "code",
   "execution_count": 32,
   "metadata": {},
   "outputs": [
    {
     "data": {
      "text/html": [
       "<div>\n",
       "<style scoped>\n",
       "    .dataframe tbody tr th:only-of-type {\n",
       "        vertical-align: middle;\n",
       "    }\n",
       "\n",
       "    .dataframe tbody tr th {\n",
       "        vertical-align: top;\n",
       "    }\n",
       "\n",
       "    .dataframe thead th {\n",
       "        text-align: right;\n",
       "    }\n",
       "</style>\n",
       "<table border=\"1\" class=\"dataframe\">\n",
       "  <thead>\n",
       "    <tr style=\"text-align: right;\">\n",
       "      <th></th>\n",
       "      <th>index</th>\n",
       "      <th>County</th>\n",
       "      <th>Year</th>\n",
       "      <th>ShelterID</th>\n",
       "      <th>BusName</th>\n",
       "      <th>City</th>\n",
       "      <th>Zip</th>\n",
       "      <th>License Type</th>\n",
       "      <th>DogSold</th>\n",
       "      <th>PupSold</th>\n",
       "      <th>...</th>\n",
       "      <th>BegInvOther</th>\n",
       "      <th>OtherRec</th>\n",
       "      <th>OtherAdopt</th>\n",
       "      <th>OtherReclaim</th>\n",
       "      <th>OtherEuth</th>\n",
       "      <th>EndInvOther</th>\n",
       "      <th>AllRec</th>\n",
       "      <th>AllAdopt</th>\n",
       "      <th>AllReclaim</th>\n",
       "      <th>AllEuth</th>\n",
       "    </tr>\n",
       "  </thead>\n",
       "  <tbody>\n",
       "    <tr>\n",
       "      <th>0</th>\n",
       "      <td>1</td>\n",
       "      <td>Carroll</td>\n",
       "      <td>2010</td>\n",
       "      <td>15</td>\n",
       "      <td>Carroll County Animal Pound</td>\n",
       "      <td>Mt. Carroll</td>\n",
       "      <td>61053</td>\n",
       "      <td>Animal Control</td>\n",
       "      <td>0</td>\n",
       "      <td>0</td>\n",
       "      <td>...</td>\n",
       "      <td>0</td>\n",
       "      <td>0</td>\n",
       "      <td>0</td>\n",
       "      <td>0</td>\n",
       "      <td>0</td>\n",
       "      <td>0</td>\n",
       "      <td>111</td>\n",
       "      <td>61</td>\n",
       "      <td>41</td>\n",
       "      <td>3</td>\n",
       "    </tr>\n",
       "    <tr>\n",
       "      <th>1</th>\n",
       "      <td>2</td>\n",
       "      <td>Champaign</td>\n",
       "      <td>2010</td>\n",
       "      <td>22</td>\n",
       "      <td>Rantoul Dog Pound</td>\n",
       "      <td>Rantoul</td>\n",
       "      <td>61866</td>\n",
       "      <td>Animal Control</td>\n",
       "      <td>0</td>\n",
       "      <td>0</td>\n",
       "      <td>...</td>\n",
       "      <td>0</td>\n",
       "      <td>0</td>\n",
       "      <td>0</td>\n",
       "      <td>0</td>\n",
       "      <td>0</td>\n",
       "      <td>0</td>\n",
       "      <td>13</td>\n",
       "      <td>0</td>\n",
       "      <td>0</td>\n",
       "      <td>0</td>\n",
       "    </tr>\n",
       "    <tr>\n",
       "      <th>2</th>\n",
       "      <td>3</td>\n",
       "      <td>Christian</td>\n",
       "      <td>2010</td>\n",
       "      <td>29</td>\n",
       "      <td>Christian County Animal Control</td>\n",
       "      <td>Taylorville</td>\n",
       "      <td>62568</td>\n",
       "      <td>Animal Control</td>\n",
       "      <td>0</td>\n",
       "      <td>0</td>\n",
       "      <td>...</td>\n",
       "      <td>0</td>\n",
       "      <td>0</td>\n",
       "      <td>0</td>\n",
       "      <td>0</td>\n",
       "      <td>0</td>\n",
       "      <td>0</td>\n",
       "      <td>271</td>\n",
       "      <td>180</td>\n",
       "      <td>56</td>\n",
       "      <td>35</td>\n",
       "    </tr>\n",
       "    <tr>\n",
       "      <th>3</th>\n",
       "      <td>4</td>\n",
       "      <td>Clark</td>\n",
       "      <td>2010</td>\n",
       "      <td>31</td>\n",
       "      <td>City of Casey</td>\n",
       "      <td>Casey</td>\n",
       "      <td>62420</td>\n",
       "      <td>Animal Control</td>\n",
       "      <td>0</td>\n",
       "      <td>0</td>\n",
       "      <td>...</td>\n",
       "      <td>0</td>\n",
       "      <td>0</td>\n",
       "      <td>0</td>\n",
       "      <td>0</td>\n",
       "      <td>0</td>\n",
       "      <td>0</td>\n",
       "      <td>63</td>\n",
       "      <td>0</td>\n",
       "      <td>23</td>\n",
       "      <td>0</td>\n",
       "    </tr>\n",
       "    <tr>\n",
       "      <th>4</th>\n",
       "      <td>5</td>\n",
       "      <td>Edgar</td>\n",
       "      <td>2010</td>\n",
       "      <td>169</td>\n",
       "      <td>Edgar County Animal Control</td>\n",
       "      <td>Paris</td>\n",
       "      <td>61944-0381</td>\n",
       "      <td>Animal Control</td>\n",
       "      <td>1</td>\n",
       "      <td>0</td>\n",
       "      <td>...</td>\n",
       "      <td>0</td>\n",
       "      <td>0</td>\n",
       "      <td>0</td>\n",
       "      <td>0</td>\n",
       "      <td>0</td>\n",
       "      <td>0</td>\n",
       "      <td>229</td>\n",
       "      <td>16</td>\n",
       "      <td>202</td>\n",
       "      <td>11</td>\n",
       "    </tr>\n",
       "  </tbody>\n",
       "</table>\n",
       "<p>5 rows × 35 columns</p>\n",
       "</div>"
      ],
      "text/plain": [
       "   index     County  Year  ShelterID                          BusName  \\\n",
       "0      1    Carroll  2010         15      Carroll County Animal Pound   \n",
       "1      2  Champaign  2010         22                Rantoul Dog Pound   \n",
       "2      3  Christian  2010         29  Christian County Animal Control   \n",
       "3      4      Clark  2010         31                    City of Casey   \n",
       "4      5      Edgar  2010        169      Edgar County Animal Control   \n",
       "\n",
       "          City         Zip    License Type  DogSold  PupSold   ...     \\\n",
       "0  Mt. Carroll       61053  Animal Control        0        0   ...      \n",
       "1      Rantoul       61866  Animal Control        0        0   ...      \n",
       "2  Taylorville       62568  Animal Control        0        0   ...      \n",
       "3        Casey       62420  Animal Control        0        0   ...      \n",
       "4        Paris  61944-0381  Animal Control        1        0   ...      \n",
       "\n",
       "   BegInvOther  OtherRec  OtherAdopt  OtherReclaim  OtherEuth  EndInvOther  \\\n",
       "0            0         0           0             0          0            0   \n",
       "1            0         0           0             0          0            0   \n",
       "2            0         0           0             0          0            0   \n",
       "3            0         0           0             0          0            0   \n",
       "4            0         0           0             0          0            0   \n",
       "\n",
       "   AllRec  AllAdopt  AllReclaim  AllEuth  \n",
       "0     111        61          41        3  \n",
       "1      13         0           0        0  \n",
       "2     271       180          56       35  \n",
       "3      63         0          23        0  \n",
       "4     229        16         202       11  \n",
       "\n",
       "[5 rows x 35 columns]"
      ]
     },
     "execution_count": 32,
     "metadata": {},
     "output_type": "execute_result"
    }
   ],
   "source": [
    "#import dependencies\n",
    "import matplotlib.pyplot as plt\n",
    "import matplotlib.patches as patches\n",
    "import numpy as np\n",
    "import pandas as pd\n",
    "import seaborn as sds\n",
    "import requests\n",
    "from census import Census\n",
    "\n",
    "# Census API Key\n",
    "from config import api_key\n",
    "c = Census(api_key, year=2013)\n",
    "\n",
    "#read csv \n",
    "animal_data = pd.read_csv(\"IL Shelter Data 2010 to 2015 InnerJoin.csv\", sep=',', encoding='latin-1')\n",
    "animal_data = animal_data.fillna(0)\n",
    "animal_data.head()"
   ]
  },
  {
   "cell_type": "code",
   "execution_count": 33,
   "metadata": {},
   "outputs": [
    {
     "name": "stdout",
     "output_type": "stream",
     "text": [
      "526339\n",
      "225642\n",
      "71756\n",
      "176340\n"
     ]
    }
   ],
   "source": [
    "#Sum of Recieved, Adopted, Reclaim, and Euth\n",
    "TotalRecieved = animal_data['AllRec'].sum()\n",
    "TotalAdopted = animal_data['AllAdopt'].sum()\n",
    "TotalReclaim = animal_data['AllReclaim'].sum()\n",
    "TotalKilled = animal_data['AllEuth'].sum()\n",
    "\n",
    "print(TotalRecieved)\n",
    "print(TotalAdopted)\n",
    "print(TotalReclaim)\n",
    "print(TotalKilled)"
   ]
  },
  {
   "cell_type": "code",
   "execution_count": 34,
   "metadata": {},
   "outputs": [
    {
     "ename": "TypeError",
     "evalue": "'str' object is not callable",
     "output_type": "error",
     "traceback": [
      "\u001b[0;31m---------------------------------------------------------------------------\u001b[0m",
      "\u001b[0;31mTypeError\u001b[0m                                 Traceback (most recent call last)",
      "\u001b[0;32m<ipython-input-34-e19e479d33a0>\u001b[0m in \u001b[0;36m<module>\u001b[0;34m()\u001b[0m\n\u001b[1;32m      8\u001b[0m \u001b[0mfig1\u001b[0m\u001b[0;34m,\u001b[0m \u001b[0max1\u001b[0m \u001b[0;34m=\u001b[0m \u001b[0mplt\u001b[0m\u001b[0;34m.\u001b[0m\u001b[0msubplots\u001b[0m\u001b[0;34m(\u001b[0m\u001b[0;34m)\u001b[0m\u001b[0;34m\u001b[0m\u001b[0m\n\u001b[1;32m      9\u001b[0m \u001b[0max1\u001b[0m\u001b[0;34m.\u001b[0m\u001b[0mpie\u001b[0m\u001b[0;34m(\u001b[0m\u001b[0mtotals\u001b[0m\u001b[0;34m,\u001b[0m \u001b[0mcolors\u001b[0m\u001b[0;34m=\u001b[0m\u001b[0mcolors\u001b[0m\u001b[0;34m,\u001b[0m \u001b[0mshadow\u001b[0m \u001b[0;34m=\u001b[0m \u001b[0;32mTrue\u001b[0m\u001b[0;34m,\u001b[0m \u001b[0mstartangle\u001b[0m\u001b[0;34m=\u001b[0m \u001b[0;36m90\u001b[0m\u001b[0;34m,\u001b[0m \u001b[0mlabels\u001b[0m\u001b[0;34m=\u001b[0m\u001b[0mcategories\u001b[0m\u001b[0;34m)\u001b[0m\u001b[0;34m\u001b[0m\u001b[0m\n\u001b[0;32m---> 10\u001b[0;31m \u001b[0mplt\u001b[0m\u001b[0;34m.\u001b[0m\u001b[0mtitle\u001b[0m\u001b[0;34m(\u001b[0m\u001b[0;34m'Breakdown of Pets Recieved'\u001b[0m\u001b[0;34m)\u001b[0m\u001b[0;34m\u001b[0m\u001b[0m\n\u001b[0m\u001b[1;32m     11\u001b[0m \u001b[0;34m\u001b[0m\u001b[0m\n\u001b[1;32m     12\u001b[0m \u001b[0mplt\u001b[0m\u001b[0;34m.\u001b[0m\u001b[0msavefig\u001b[0m\u001b[0;34m(\u001b[0m\u001b[0;34m'piechart.png'\u001b[0m\u001b[0;34m)\u001b[0m\u001b[0;34m\u001b[0m\u001b[0m\n",
      "\u001b[0;31mTypeError\u001b[0m: 'str' object is not callable"
     ]
    },
    {
     "data": {
      "image/png": "[encoded data removed]",
      "text/plain": [
       "<Figure size 432x288 with 1 Axes>"
      ]
     },
     "metadata": {},
     "output_type": "display_data"
    }
   ],
   "source": [
    "#Make pie graph\n",
    "categories = ('Adopted',\n",
    "          'Reclaimed',\n",
    "          'Euthanized')\n",
    "totals = [ TotalAdopted, TotalReclaim, TotalKilled]\n",
    "colors = ['yellowgreen','lightskyblue','lightcoral']\n",
    "\n",
    "fig1, ax1 = plt.subplots()\n",
    "ax1.pie(totals, colors=colors, shadow = True, startangle= 90, labels=categories)\n",
    "plt.title('Breakdown of Pets Recieved')\n",
    "\n",
    "plt.savefig('piechart.png')\n",
    "plt.show"
   ]
  },
  {
   "cell_type": "code",
   "execution_count": null,
   "metadata": {},
   "outputs": [],
   "source": [
    "#Breakdown by Type\n",
    "DogsAdopt = animal_data['DogAdopt'].sum()\n",
    "DogsReclaim = animal_data['DogReclaim'].sum()\n",
    "DogsEuth = animal_data['DogEuth'].sum()\n",
    "\n",
    "print(DogsAdopt)\n",
    "print(DogsReclaim)\n",
    "print(DogsEuth)\n",
    "\n",
    "CatsAdopt = animal_data['CatsAdopt'].sum()\n",
    "CatsReclaim = animal_data['CatsReclaim'].sum()\n",
    "CatsEuth = animal_data['CatEuth'].sum()\n",
    "\n",
    "print(CatsAdopt)\n",
    "print(CatsReclaim)\n",
    "print(CatsEuth)\n",
    "\n",
    "OtherAdopt = animal_data['OtherAdopt'].sum()\n",
    "OtherReclaim = animal_data['OtherReclaim'].sum()\n",
    "OtherEuth = animal_data['OtherEuth'].sum()\n",
    "\n",
    "print(OtherAdopt)\n",
    "print(OtherReclaim)\n",
    "print(OtherEuth)"
   ]
  },
  {
   "cell_type": "code",
   "execution_count": 35,
   "metadata": {},
   "outputs": [
    {
     "ename": "TypeError",
     "evalue": "'str' object is not callable",
     "output_type": "error",
     "traceback": [
      "\u001b[0;31m---------------------------------------------------------------------------\u001b[0m",
      "\u001b[0;31mTypeError\u001b[0m                                 Traceback (most recent call last)",
      "\u001b[0;32m<ipython-input-35-fcf18fae7c90>\u001b[0m in \u001b[0;36m<module>\u001b[0;34m()\u001b[0m\n\u001b[1;32m     13\u001b[0m              \u001b[0;34m'Reclaimed'\u001b[0m\u001b[0;34m,\u001b[0m\u001b[0;34m\u001b[0m\u001b[0m\n\u001b[1;32m     14\u001b[0m              'Euthanized']\n\u001b[0;32m---> 15\u001b[0;31m \u001b[0mplt\u001b[0m\u001b[0;34m.\u001b[0m\u001b[0mtitle\u001b[0m\u001b[0;34m(\u001b[0m\u001b[0;34m'Type of Pets Adopted, Reclaimed, and Euthanized'\u001b[0m\u001b[0;34m)\u001b[0m\u001b[0;34m\u001b[0m\u001b[0m\n\u001b[0m\u001b[1;32m     16\u001b[0m \u001b[0mplt\u001b[0m\u001b[0;34m.\u001b[0m\u001b[0mylabel\u001b[0m\u001b[0;34m(\u001b[0m\u001b[0;34m'Number of Pets'\u001b[0m\u001b[0;34m)\u001b[0m\u001b[0;34m\u001b[0m\u001b[0m\n\u001b[1;32m     17\u001b[0m \u001b[0mplt\u001b[0m\u001b[0;34m.\u001b[0m\u001b[0mxticks\u001b[0m\u001b[0;34m(\u001b[0m\u001b[0mx\u001b[0m\u001b[0;34m,\u001b[0m \u001b[0mcategories\u001b[0m\u001b[0;34m)\u001b[0m\u001b[0;34m\u001b[0m\u001b[0m\n",
      "\u001b[0;31mTypeError\u001b[0m: 'str' object is not callable"
     ]
    },
    {
     "data": {
      "image/png": "[encoded data removed]",
      "text/plain": [
       "<Figure size 432x288 with 1 Axes>"
      ]
     },
     "metadata": {},
     "output_type": "display_data"
    }
   ],
   "source": [
    "#Make stacked bar graph for adopted, reclaimed, and euth by ty\n",
    "DogBar = [DogsAdopt, DogsReclaim, DogsEuth]\n",
    "CatBar = [CatsAdopt, CatsReclaim, CatsEuth]\n",
    "OtherBar = [OtherAdopt, OtherReclaim, OtherEuth]\n",
    "x = np.arange(len(DogBar))\n",
    "\n",
    "plt.bar(x, DogBar, color = 'yellowgreen', align='center', label='Dogs')\n",
    "plt.bar(x, CatBar, color = 'lightskyblue', bottom=DogBar, label='Cats')\n",
    "plt.bar(x, OtherBar, color = 'lightcoral', bottom = list(map(lambda x,y: x+y, DogBar, CatBar)),label='Other')\n",
    "\n",
    "\n",
    "categories = ['Adopted',\n",
    "             'Reclaimed',\n",
    "             'Euthanized']\n",
    "plt.title('Type of Pets Adopted, Reclaimed, and Euthanized')\n",
    "plt.ylabel('Number of Pets')\n",
    "plt.xticks(x, categories)\n",
    "plt.legend(loc=\"best\")\n",
    "\n",
    "#plt.legend(handles=[categories])\n",
    "plt.savefig('stackedbarchart.png')\n",
    "plt.show()"
   ]
  },
  {
   "cell_type": "code",
   "execution_count": null,
   "metadata": {},
   "outputs": [],
   "source": [
    "#Make stacked bar graph for adopted, reclaimed, and euth by type\n",
    "# totals = [ '498999', '107452', '281895']\n",
    "# y_pos = np.arange(len(totals))\n",
    "# categories = (\n",
    "#           'TotalAdopted',\n",
    "#           'TotalReclaim',\n",
    "#           'TotalKilled')\n",
    "\n",
    "# plt.bar(y_pos, totals, color = 'r', alpha = 0.5, align = 'center')\n",
    "# plt.xticks(y_pos, categories)\n",
    "# plt.ylabel('Number of Pets')\n",
    "# plt.title('Type of Pets Adopted, Reclaimed, and Euthanized')\n",
    "\n",
    "# plt.show"
   ]
  },
  {
   "cell_type": "code",
   "execution_count": 36,
   "metadata": {
    "scrolled": true
   },
   "outputs": [
    {
     "name": "stdout",
     "output_type": "stream",
     "text": [
      "Year\n",
      "2010    44868\n",
      "2011    46043\n",
      "2012    45673\n",
      "2013    45633\n",
      "2014    43425\n",
      "dtype: int64\n",
      "Year\n",
      "2010    15713\n",
      "2011    14418\n",
      "2012    14076\n",
      "2013    13945\n",
      "2014    13604\n",
      "dtype: int64\n",
      "Year\n",
      "2010    43541\n",
      "2011    37946\n",
      "2012    33205\n",
      "2013    33195\n",
      "2014    30082\n",
      "dtype: int64\n",
      "Year\n",
      "2010    120418\n",
      "2011    111646\n",
      "2012    101328\n",
      "2013     98538\n",
      "2014     94409\n",
      "dtype: int64\n"
     ]
    }
   ],
   "source": [
    "DogAdoptYears = animal_data.groupby('Year')['DogAdopt'].sum()\n",
    "DogReclaimYears = animal_data.groupby('Year')['DogReclaim'].sum()\n",
    "DogEuthYears = animal_data.groupby('Year')['DogReclaim'].sum()\n",
    "DogRcYears = animal_data.groupby('Year')['DogRec'].sum()\n",
    "#print(DogAdoptYears, DogReclaimYears, DogEuthYears)\n",
    "\n",
    "CatAdoptYears = animal_data.groupby('Year')['CatsAdopt'].sum()\n",
    "CatReclaimYears = animal_data.groupby('Year')['CatsReclaim'].sum()\n",
    "CatEuthYears = animal_data.groupby('Year')['CatEuth'].sum()\n",
    "CatRcYears = animal_data.groupby('Year')['CatRec'].sum()\n",
    "#print(CatAdoptYears, CatReclaimYears, CatEuthYears)\n",
    "\n",
    "OtherAdoptYears = animal_data.groupby('Year')['OtherAdopt'].sum()\n",
    "OtherReclaimYears = animal_data.groupby('Year')['OtherReclaim'].sum()\n",
    "OtherEuthYears = animal_data.groupby('Year')['OtherEuth'].sum()\n",
    "OtherRcYears = animal_data.groupby('Year')['OtherRec'].sum()\n",
    "# print(OtherAdoptYears, OtherReclaimYears, OtherEuthYears)\n",
    "\n",
    "SumAdoptYears = DogAdoptYears + CatAdoptYears + OtherAdoptYears\n",
    "print(SumAdoptYears)\n",
    "\n",
    "SumReclaimYears = DogReclaimYears + CatReclaimYears + OtherReclaimYears\n",
    "print(SumReclaimYears)\n",
    "\n",
    "SumEuthYears = DogEuthYears + CatEuthYears + OtherEuthYears\n",
    "print(SumEuthYears)\n",
    "\n",
    "SumRecYears = DogRcYears + CatRcYears + OtherRcYears\n",
    "print(SumRecYears)"
   ]
  },
  {
   "cell_type": "code",
   "execution_count": 47,
   "metadata": {},
   "outputs": [
    {
     "ename": "TypeError",
     "evalue": "'str' object is not callable",
     "output_type": "error",
     "traceback": [
      "\u001b[0;31m---------------------------------------------------------------------------\u001b[0m",
      "\u001b[0;31mTypeError\u001b[0m                                 Traceback (most recent call last)",
      "\u001b[0;32m<ipython-input-47-874dc5bdd709>\u001b[0m in \u001b[0;36m<module>\u001b[0;34m()\u001b[0m\n\u001b[1;32m     15\u001b[0m \u001b[0;34m\u001b[0m\u001b[0m\n\u001b[1;32m     16\u001b[0m \u001b[0;31m#graph lables\u001b[0m\u001b[0;34m\u001b[0m\u001b[0;34m\u001b[0m\u001b[0m\n\u001b[0;32m---> 17\u001b[0;31m \u001b[0mplt\u001b[0m\u001b[0;34m.\u001b[0m\u001b[0mtitle\u001b[0m\u001b[0;34m(\u001b[0m\u001b[0;34m'Trends Between 2012-2014'\u001b[0m\u001b[0;34m)\u001b[0m\u001b[0;34m\u001b[0m\u001b[0m\n\u001b[0m\u001b[1;32m     18\u001b[0m \u001b[0mplt\u001b[0m\u001b[0;34m.\u001b[0m\u001b[0mxlabel\u001b[0m\u001b[0;34m(\u001b[0m\u001b[0mx_pos\u001b[0m\u001b[0;34m)\u001b[0m\u001b[0;34m\u001b[0m\u001b[0m\n\u001b[1;32m     19\u001b[0m \u001b[0mplt\u001b[0m\u001b[0;34m.\u001b[0m\u001b[0mylabel\u001b[0m\u001b[0;34m(\u001b[0m\u001b[0;34m'Number of Animals'\u001b[0m\u001b[0;34m)\u001b[0m\u001b[0;34m\u001b[0m\u001b[0m\n",
      "\u001b[0;31mTypeError\u001b[0m: 'str' object is not callable"
     ]
    },
    {
     "data": {
      "image/png": "[encoded data removed]",
      "text/plain": [
       "<Figure size 432x288 with 1 Axes>"
      ]
     },
     "metadata": {},
     "output_type": "display_data"
    }
   ],
   "source": [
    "#Line Values \n",
    "GraphEuth = SumEuthYears\n",
    "GraphReclaim = SumReclaimYears\n",
    "GraphAdopt = SumAdoptYears \n",
    "GraphRec = SumRecYears\n",
    "\n",
    "#x Values\n",
    "x_pos = [2010,2011,2012,2013,2014]\n",
    "\n",
    "#plotting on graph\n",
    "plt.plot(GraphAdopt, color='yellowgreen', linewidth=4, label='Adopted')\n",
    "plt.plot(GraphReclaim, color='lightskyblue', linewidth=2, linestyle = 'dashed', label='')\n",
    "plt.plot(GraphEuth, color='lightcoral', linewidth=4, linestyle = 'dotted')\n",
    "#plt.plot(GraphRec, color='lightcoral', linewidth=4, linestyle = 'dotted')\n",
    "\n",
    "#graph lables\n",
    "plt.title('Trends Between 2012-2014')\n",
    "plt.xlabel(x_pos)\n",
    "plt.ylabel('Number of Animals')\n",
    "plt.show\n",
    "\n",
    "# plt.xticks(x_pos)\n",
    "# plt.xticks(np.arange(len(years)))\n",
    "\n",
    "# # Fake dataset\n",
    "# height = [3, 12, 5, 18, 45]\n",
    "# bars = ('A', 'B', 'C', 'D', 'E')\n",
    "# y_pos = np.arange(len(bars))\n",
    " \n",
    "# # Create bars and choose color\n",
    "# plt.bar(y_pos, height, color = (0.5,0.1,0.5,0.6))\n",
    " \n",
    "# # Add title and axis names\n",
    "# plt.title('My title')\n",
    "# plt.xlabel('categories')\n",
    "# plt.ylabel('values')\n",
    " \n",
    "# # Limits for the Y axis\n",
    "# plt.ylim(0,60)\n",
    " \n",
    "# # Create names\n",
    "# plt.xticks(y_pos, bars)\n",
    " \n",
    "# # Show graphic\n",
    "# plt.show()"
   ]
  },
  {
   "cell_type": "code",
   "execution_count": 38,
   "metadata": {},
   "outputs": [
    {
     "data": {
      "image/png": "[encoded data removed]",
      "text/plain": [
       "<Figure size 432x288 with 1 Axes>"
      ]
     },
     "metadata": {},
     "output_type": "display_data"
    }
   ],
   "source": [
    "#Graph for Dogs\n",
    "# DogAdoptYears = animal_data.groupby('Year')['DogAdopt'].sum()\n",
    "# DogReclaimYears = animal_data.groupby('Year')['DogReclaim'].sum()\n",
    "# DogEuthYears = animal_data.groupby('Year')['DogReclaim'].sum()\n",
    "# print(DogAdoptYears, DogReclaimYears, DogEuthYears)\n",
    "\n",
    "plt.plot(GraphRec, color='lightcoral', linewidth=4)\n",
    "\n",
    "plt.ylim(0,150000)\n",
    "#plt.xticks(np.arange(len(years)), years)\n",
    "plt.show()"
   ]
  },
  {
   "cell_type": "code",
   "execution_count": 39,
   "metadata": {},
   "outputs": [
    {
     "name": "stdout",
     "output_type": "stream",
     "text": [
      "33120\n"
     ]
    },
    {
     "data": {
      "text/html": [
       "<div>\n",
       "<style scoped>\n",
       "    .dataframe tbody tr th:only-of-type {\n",
       "        vertical-align: middle;\n",
       "    }\n",
       "\n",
       "    .dataframe tbody tr th {\n",
       "        vertical-align: top;\n",
       "    }\n",
       "\n",
       "    .dataframe thead th {\n",
       "        text-align: right;\n",
       "    }\n",
       "</style>\n",
       "<table border=\"1\" class=\"dataframe\">\n",
       "  <thead>\n",
       "    <tr style=\"text-align: right;\">\n",
       "      <th></th>\n",
       "      <th>Zip</th>\n",
       "      <th>Population</th>\n",
       "      <th>Median Age</th>\n",
       "      <th>Household Income</th>\n",
       "      <th>Per Capita Income</th>\n",
       "      <th>Poverty Count</th>\n",
       "      <th>Poverty Rate</th>\n",
       "    </tr>\n",
       "  </thead>\n",
       "  <tbody>\n",
       "    <tr>\n",
       "      <th>0</th>\n",
       "      <td>00601</td>\n",
       "      <td>18450.0</td>\n",
       "      <td>36.6</td>\n",
       "      <td>12041.0</td>\n",
       "      <td>7380.0</td>\n",
       "      <td>10816.0</td>\n",
       "      <td>58.623306</td>\n",
       "    </tr>\n",
       "    <tr>\n",
       "      <th>1</th>\n",
       "      <td>00602</td>\n",
       "      <td>41302.0</td>\n",
       "      <td>38.6</td>\n",
       "      <td>15663.0</td>\n",
       "      <td>8463.0</td>\n",
       "      <td>22409.0</td>\n",
       "      <td>54.256452</td>\n",
       "    </tr>\n",
       "    <tr>\n",
       "      <th>2</th>\n",
       "      <td>00603</td>\n",
       "      <td>53683.0</td>\n",
       "      <td>38.9</td>\n",
       "      <td>15485.0</td>\n",
       "      <td>9176.0</td>\n",
       "      <td>26220.0</td>\n",
       "      <td>48.842278</td>\n",
       "    </tr>\n",
       "    <tr>\n",
       "      <th>3</th>\n",
       "      <td>00606</td>\n",
       "      <td>6591.0</td>\n",
       "      <td>37.3</td>\n",
       "      <td>15019.0</td>\n",
       "      <td>6383.0</td>\n",
       "      <td>3721.0</td>\n",
       "      <td>56.455773</td>\n",
       "    </tr>\n",
       "    <tr>\n",
       "      <th>4</th>\n",
       "      <td>00610</td>\n",
       "      <td>28963.0</td>\n",
       "      <td>39.2</td>\n",
       "      <td>16707.0</td>\n",
       "      <td>7892.0</td>\n",
       "      <td>14569.0</td>\n",
       "      <td>50.302110</td>\n",
       "    </tr>\n",
       "  </tbody>\n",
       "</table>\n",
       "</div>"
      ],
      "text/plain": [
       "     Zip  Population  Median Age  Household Income  Per Capita Income  \\\n",
       "0  00601     18450.0        36.6           12041.0             7380.0   \n",
       "1  00602     41302.0        38.6           15663.0             8463.0   \n",
       "2  00603     53683.0        38.9           15485.0             9176.0   \n",
       "3  00606      6591.0        37.3           15019.0             6383.0   \n",
       "4  00610     28963.0        39.2           16707.0             7892.0   \n",
       "\n",
       "   Poverty Count  Poverty Rate  \n",
       "0        10816.0     58.623306  \n",
       "1        22409.0     54.256452  \n",
       "2        26220.0     48.842278  \n",
       "3         3721.0     56.455773  \n",
       "4        14569.0     50.302110  "
      ]
     },
     "execution_count": 39,
     "metadata": {},
     "output_type": "execute_result"
    }
   ],
   "source": [
    "# Run Census Search to retrieve data on all zip codes (2013 ACS5 Census)\n",
    "# See: https://github.com/CommerceDataService/census-wrapper for library documentation\n",
    "# See: https://gist.github.com/afhaque/60558290d6efd892351c4b64e5c01e9b for labels\n",
    "census_data = c.acs5.get((\"NAME\", \"B19013_001E\", \"B01003_001E\", \"B01002_001E\",\n",
    "                          \"B19301_001E\",\n",
    "                          \"B17001_002E\"), {'for': 'zip code tabulation area:*'})\n",
    "\n",
    "# Convert to DataFrame\n",
    "census_pd = pd.DataFrame(census_data)\n",
    "\n",
    "# Column Reordering\n",
    "census_pd = census_pd.rename(columns={\"B01003_001E\": \"Population\",\n",
    "                                      \"B01002_001E\": \"Median Age\",\n",
    "                                      \"B19013_001E\": \"Household Income\",\n",
    "                                      \"B19301_001E\": \"Per Capita Income\",\n",
    "                                      \"B17001_002E\": \"Poverty Count\",\n",
    "                                      \"NAME\": \"Name\", \"zip code tabulation area\": \"Zip\"})\n",
    "\n",
    "# Add in Poverty Rate (Poverty Count / Population)\n",
    "census_pd[\"Poverty Rate\"] = 100 * \\\n",
    "    census_pd[\"Poverty Count\"].astype(\n",
    "        int) / census_pd[\"Population\"].astype(int)\n",
    "\n",
    "# Final DataFrame\n",
    "census_pd = census_pd[[\"Zip\", \"Population\", \"Median Age\", \"Household Income\",\n",
    "                       \"Per Capita Income\", \"Poverty Count\", \"Poverty Rate\"]]\n",
    "\n",
    "\n",
    "# Visualize\n",
    "print(len(census_pd))\n",
    "census_pd.head()"
   ]
  },
  {
   "cell_type": "code",
   "execution_count": 40,
   "metadata": {},
   "outputs": [
    {
     "data": {
      "text/plain": [
       "index                  int64\n",
       "County                object\n",
       "Year                   int64\n",
       "ShelterID              int64\n",
       "BusName               object\n",
       "City                  object\n",
       "Zip                   object\n",
       "License Type          object\n",
       "DogSold                int64\n",
       "PupSold                int64\n",
       "CatSold                int64\n",
       "KitSold                int64\n",
       "ExoticSold             int64\n",
       "BegInvDog              int64\n",
       "DogRec                 int64\n",
       "DogAdopt               int64\n",
       "DogReclaim             int64\n",
       "DogEuth                int64\n",
       "EndInvDogs             int64\n",
       "BegInvCat              int64\n",
       "CatRec                 int64\n",
       "CatsAdopt              int64\n",
       "CatsReclaim            int64\n",
       "CatEuth                int64\n",
       "EndInvCats             int64\n",
       "BegInvOther            int64\n",
       "OtherRec               int64\n",
       "OtherAdopt             int64\n",
       "OtherReclaim           int64\n",
       "OtherEuth              int64\n",
       "EndInvOther           object\n",
       "AllRec                 int64\n",
       "AllAdopt               int64\n",
       "AllReclaim             int64\n",
       "AllEuth                int64\n",
       "Population           float64\n",
       "Median Age           float64\n",
       "Household Income     float64\n",
       "Per Capita Income    float64\n",
       "Poverty Count        float64\n",
       "Poverty Rate         float64\n",
       "dtype: object"
      ]
     },
     "execution_count": 40,
     "metadata": {},
     "output_type": "execute_result"
    }
   ],
   "source": [
    "ShelterCensusMerge = pd.merge(animal_data, census_pd, on='Zip')\n",
    "ShelterCensusMerge.dtypes"
   ]
  },
  {
   "cell_type": "code",
   "execution_count": 41,
   "metadata": {},
   "outputs": [
    {
     "data": {
      "text/plain": [
       "<function matplotlib.pyplot.show(*args, **kw)>"
      ]
     },
     "execution_count": 41,
     "metadata": {},
     "output_type": "execute_result"
    },
    {
     "data": {
      "image/png": "[encoded data removed]",
      "text/plain": [
       "<Figure size 432x288 with 2 Axes>"
      ]
     },
     "metadata": {},
     "output_type": "display_data"
    }
   ],
   "source": [
    "ShelterCensusMerge.plot.scatter(x='Population', y='DogRec', c='Poverty Rate', marker='s')\n",
    "#sds.lmplot(x='Population',y='DogRec',data=ShelterCensusMerge,fit_reg=True)\n",
    "\n",
    "#graph lables\n",
    "plt.title = (\"Dogs Recieved per Population and Poverty Rate\")\n",
    "plt.xlabel = (\"Population\")\n",
    "plt.ylabel = (\"Number Number of Dogs (intake) per shelter\")\n",
    "\n",
    "plt.show"
   ]
  },
  {
   "cell_type": "code",
   "execution_count": 42,
   "metadata": {},
   "outputs": [
    {
     "data": {
      "text/plain": [
       "<function matplotlib.pyplot.show(*args, **kw)>"
      ]
     },
     "execution_count": 42,
     "metadata": {},
     "output_type": "execute_result"
    },
    {
     "data": {
      "image/png": "[encoded data removed]",
      "text/plain": [
       "<Figure size 360x360 with 1 Axes>"
      ]
     },
     "metadata": {},
     "output_type": "display_data"
    }
   ],
   "source": [
    "sds.lmplot(x='Population',y='DogRec',data=ShelterCensusMerge,fit_reg=True)plt.show"
   ]
  },
  {
   "cell_type": "code",
   "execution_count": 43,
   "metadata": {},
   "outputs": [
    {
     "data": {
      "text/plain": [
       "<function matplotlib.pyplot.show(*args, **kw)>"
      ]
     },
     "execution_count": 43,
     "metadata": {},
     "output_type": "execute_result"
    },
    {
     "data": {
      "image/png": "[encoded data removed]",
      "text/plain": [
       "<Figure size 360x360 with 1 Axes>"
      ]
     },
     "metadata": {},
     "output_type": "display_data"
    }
   ],
   "source": [
    "sds.lmplot(x='Population',y='DogAdopt',data=ShelterCensusMerge,fit_reg=True)\n",
    "plt.show"
   ]
  },
  {
   "cell_type": "code",
   "execution_count": 44,
   "metadata": {},
   "outputs": [
    {
     "data": {
      "text/plain": [
       "<function matplotlib.pyplot.show(*args, **kw)>"
      ]
     },
     "execution_count": 44,
     "metadata": {},
     "output_type": "execute_result"
    },
    {
     "data": {
      "image/png": "[encoded data removed]",
      "text/plain": [
       "<Figure size 432x288 with 2 Axes>"
      ]
     },
     "metadata": {},
     "output_type": "display_data"
    }
   ],
   "source": [
    "ShelterCensusMerge.plot.scatter(x='Poverty Rate', y='DogRec', c='Population', marker='s')\n",
    "#sds.lmplot(x='Population',y='DogRec',data=ShelterCensusMerge,fit_reg=True)\n",
    "\n",
    "\n",
    "#graph lables\n",
    "\n",
    "\n",
    "plt.show\n",
    "\n"
   ]
  },
  {
   "cell_type": "code",
   "execution_count": 45,
   "metadata": {},
   "outputs": [
    {
     "data": {
      "text/plain": [
       "<function matplotlib.pyplot.show(*args, **kw)>"
      ]
     },
     "execution_count": 45,
     "metadata": {},
     "output_type": "execute_result"
    },
    {
     "data": {
      "image/png": "[encoded data removed]",
      "text/plain": [
       "<Figure size 360x360 with 1 Axes>"
      ]
     },
     "metadata": {},
     "output_type": "display_data"
    }
   ],
   "source": [
    "sds.lmplot(x='Poverty Rate',y='DogAdopt',data=ShelterCensusMerge,fit_reg=True)\n",
    "plt.show"
   ]
  },
  {
   "cell_type": "code",
   "execution_count": 46,
   "metadata": {},
   "outputs": [
    {
     "ename": "TypeError",
     "evalue": "'str' object is not callable",
     "output_type": "error",
     "traceback": [
      "\u001b[0;31m---------------------------------------------------------------------------\u001b[0m",
      "\u001b[0;31mTypeError\u001b[0m                                 Traceback (most recent call last)",
      "\u001b[0;32m<ipython-input-46-007412422a1f>\u001b[0m in \u001b[0;36m<module>\u001b[0;34m()\u001b[0m\n\u001b[1;32m      8\u001b[0m \u001b[0;34m\u001b[0m\u001b[0m\n\u001b[1;32m      9\u001b[0m \u001b[0;31m# Add title and axis names\u001b[0m\u001b[0;34m\u001b[0m\u001b[0;34m\u001b[0m\u001b[0m\n\u001b[0;32m---> 10\u001b[0;31m \u001b[0mplt\u001b[0m\u001b[0;34m.\u001b[0m\u001b[0mtitle\u001b[0m\u001b[0;34m(\u001b[0m\u001b[0;34m'My title'\u001b[0m\u001b[0;34m)\u001b[0m\u001b[0;34m\u001b[0m\u001b[0m\n\u001b[0m\u001b[1;32m     11\u001b[0m \u001b[0mplt\u001b[0m\u001b[0;34m.\u001b[0m\u001b[0mxlabel\u001b[0m\u001b[0;34m(\u001b[0m\u001b[0;34m'categories'\u001b[0m\u001b[0;34m)\u001b[0m\u001b[0;34m\u001b[0m\u001b[0m\n\u001b[1;32m     12\u001b[0m \u001b[0mplt\u001b[0m\u001b[0;34m.\u001b[0m\u001b[0mylabel\u001b[0m\u001b[0;34m(\u001b[0m\u001b[0;34m'values'\u001b[0m\u001b[0;34m)\u001b[0m\u001b[0;34m\u001b[0m\u001b[0m\n",
      "\u001b[0;31mTypeError\u001b[0m: 'str' object is not callable"
     ]
    },
    {
     "data": {
      "image/png": "[encoded data removed]",
      "text/plain": [
       "<Figure size 432x288 with 1 Axes>"
      ]
     },
     "metadata": {},
     "output_type": "display_data"
    }
   ],
   "source": [
    "# Fake dataset\n",
    "height = [3, 12, 5, 18, 45]\n",
    "bars = ('A', 'B', 'C', 'D', 'E')\n",
    "y_pos = np.arange(len(bars))\n",
    " \n",
    "# Create bars and choose color\n",
    "plt.bar(y_pos, height, color = (0.5,0.1,0.5,0.6))\n",
    " \n",
    "# Add title and axis names\n",
    "plt.title('My title')\n",
    "plt.xlabel('categories')\n",
    "plt.ylabel('values')\n",
    " \n",
    "# Limits for the Y axis\n",
    "plt.ylim(0,60)\n",
    " \n",
    "# Create names\n",
    "plt.xticks(y_pos, bars)\n",
    " \n",
    "# Show graphic\n",
    "plt.show()\n"
   ]
  },
  {
   "cell_type": "code",
   "execution_count": null,
   "metadata": {},
   "outputs": [],
   "source": []
  }
 ],
 "metadata": {
  "kernelspec": {
   "display_name": "Python 3",
   "language": "python",
   "name": "python3"
  },
  "language_info": {
   "codemirror_mode": {
    "name": "ipython",
    "version": 3
   },
   "file_extension": ".py",
   "mimetype": "text/x-python",
   "name": "python",
   "nbconvert_exporter": "python",
   "pygments_lexer": "ipython3",
   "version": "3.6.5"
  }
 },
 "nbformat": 4,
 "nbformat_minor": 2
}
