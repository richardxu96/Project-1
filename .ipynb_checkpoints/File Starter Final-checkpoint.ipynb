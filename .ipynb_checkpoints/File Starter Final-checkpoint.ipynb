{
 "cells": [
  {
   "cell_type": "code",
   "execution_count": null,
   "metadata": {},
   "outputs": [],
   "source": [
    "#import dependencies\n",
    "import matplotlib.pyplot as plt\n",
    "import matplotlib.patches as patches\n",
    "import numpy as np\n",
    "import pandas as pd\n",
    "import seaborn as sds\n",
    "import requests\n",
    "from census import Census\n",
    "import scipy.stats as stats\n",
    "%matplotlib\n",
    "# Census API Key\n",
    "from config import api_key\n",
    "c = Census(api_key, year=2013)\n",
    "\n",
    "#read csv \n",
    "animal_data = pd.read_csv(\"IL Shelter Data 2010 to 2015 InnerJoin.csv\", sep=',', encoding='latin-1')\n",
    "animal_data = animal_data.fillna(0)\n",
    "animal_data"
   ]
  },
  {
   "cell_type": "code",
   "execution_count": 2,
   "metadata": {},
   "outputs": [
    {
     "name": "stdout",
     "output_type": "stream",
     "text": [
      "526339\n",
      "225642\n",
      "71756\n",
      "176340\n"
     ]
    }
   ],
   "source": [
    "#Sum of Recieved, Adopted, Reclaim, and Euth\n",
    "TotalRecieved = animal_data['AllRec'].sum()\n",
    "TotalAdopted = animal_data['AllAdopt'].sum()\n",
    "TotalReclaim = animal_data['AllReclaim'].sum()\n",
    "TotalKilled = animal_data['AllEuth'].sum()\n",
    "\n",
    "print(TotalRecieved)\n",
    "print(TotalAdopted)\n",
    "print(TotalReclaim)\n",
    "print(TotalKilled)"
   ]
  },
  {
   "cell_type": "code",
   "execution_count": 3,
   "metadata": {},
   "outputs": [
    {
     "data": {
      "text/plain": [
       "<function matplotlib.pyplot.show(*args, **kw)>"
      ]
     },
     "execution_count": 3,
     "metadata": {},
     "output_type": "execute_result"
    },
    {
     "data": {
      "image/png": "[encoded data removed]",
      "text/plain": [
       "<Figure size 432x288 with 1 Axes>"
      ]
     },
     "metadata": {},
     "output_type": "display_data"
    }
   ],
   "source": [
    "#Make pie graph\n",
    "categories = ('Adopted',\n",
    "          'Reclaimed',\n",
    "          'Euthanized')\n",
    "totals = [ TotalAdopted, TotalReclaim, TotalKilled]\n",
    "colors = ['yellowgreen','lightskyblue','lightcoral']\n",
    "\n",
    "fig1, ax1 = plt.subplots()\n",
    "ax1.pie(totals, colors=colors, shadow = True, startangle= 90, labels=categories)\n",
    "plt.title('Breakdown of Pets Recieved')\n",
    "\n",
    "plt.savefig('piechart.png')\n",
    "plt.show"
   ]
  },
  {
   "cell_type": "code",
   "execution_count": 4,
   "metadata": {},
   "outputs": [
    {
     "name": "stdout",
     "output_type": "stream",
     "text": [
      "132242\n",
      "64481\n",
      "62852\n",
      "87496\n",
      "6835\n",
      "100565\n",
      "5904\n",
      "440\n",
      "12923\n"
     ]
    }
   ],
   "source": [
    "#Breakdown by Type\n",
    "DogsAdopt = animal_data['DogAdopt'].sum()\n",
    "DogsReclaim = animal_data['DogReclaim'].sum()\n",
    "DogsEuth = animal_data['DogEuth'].sum()\n",
    "\n",
    "print(DogsAdopt)\n",
    "print(DogsReclaim)\n",
    "print(DogsEuth)\n",
    "\n",
    "CatsAdopt = animal_data['CatsAdopt'].sum()\n",
    "CatsReclaim = animal_data['CatsReclaim'].sum()\n",
    "CatsEuth = animal_data['CatEuth'].sum()\n",
    "\n",
    "print(CatsAdopt)\n",
    "print(CatsReclaim)\n",
    "print(CatsEuth)\n",
    "\n",
    "OtherAdopt = animal_data['OtherAdopt'].sum()\n",
    "OtherReclaim = animal_data['OtherReclaim'].sum()\n",
    "OtherEuth = animal_data['OtherEuth'].sum()\n",
    "\n",
    "print(OtherAdopt)\n",
    "print(OtherReclaim)\n",
    "print(OtherEuth)"
   ]
  },
  {
   "cell_type": "code",
   "execution_count": 5,
   "metadata": {},
   "outputs": [
    {
     "data": {
      "image/png": "[encoded data removed]",
      "text/plain": [
       "<Figure size 432x288 with 1 Axes>"
      ]
     },
     "metadata": {},
     "output_type": "display_data"
    }
   ],
   "source": [
    "#Make stacked bar graph for adopted, reclaimed, and euth by ty\n",
    "DogBar = [DogsAdopt, DogsReclaim, DogsEuth]\n",
    "CatBar = [CatsAdopt, CatsReclaim, CatsEuth]\n",
    "OtherBar = [OtherAdopt, OtherReclaim, OtherEuth]\n",
    "x = np.arange(len(DogBar))\n",
    "\n",
    "plt.bar(x, DogBar, color = 'yellowgreen', align='center', label='Dogs')\n",
    "plt.bar(x, CatBar, color = 'lightskyblue', bottom=DogBar, label='Cats')\n",
    "plt.bar(x, OtherBar, color = 'lightcoral', bottom = list(map(lambda x,y: x+y, DogBar, CatBar)), label='Other')\n",
    "\n",
    "categories = ['Adopted',\n",
    "             'Reclaimed',\n",
    "             'Euthanized']\n",
    "plt.title('Type of Pets Adopted, Reclaimed, and Euthanized')\n",
    "plt.ylabel('Number of Pets')\n",
    "plt.xticks(x, categories)\n",
    "plt.legend(loc=\"best\")\n",
    "#plt.legend(handles=[categories])\n",
    "plt.savefig('stackedbarchart.png')\n",
    "plt.show()"
   ]
  },
  {
   "cell_type": "code",
   "execution_count": 6,
   "metadata": {},
   "outputs": [],
   "source": [
    "#Make stacked bar graph for adopted, reclaimed, and euth by type\n",
    "# totals = [ '498999', '107452', '281895']\n",
    "# y_pos = np.arange(len(totals))\n",
    "# categories = (\n",
    "#           'TotalAdopted',\n",
    "#           'TotalReclaim',\n",
    "#           'TotalKilled')\n",
    "\n",
    "# plt.bar(y_pos, totals, color = 'r', alpha = 0.5, align = 'center')\n",
    "# plt.xticks(y_pos, categories)\n",
    "# plt.ylabel('Number of Pets')\n",
    "# plt.title('Type of Pets Adopted, Reclaimed, and Euthanized')\n",
    "\n",
    "# plt.show"
   ]
  },
  {
   "cell_type": "code",
   "execution_count": 7,
   "metadata": {
    "scrolled": true
   },
   "outputs": [
    {
     "name": "stdout",
     "output_type": "stream",
     "text": [
      "Year\n",
      "2010    44868\n",
      "2011    46043\n",
      "2012    45673\n",
      "2013    45633\n",
      "2014    43425\n",
      "dtype: int64\n",
      "Year\n",
      "2010    15713\n",
      "2011    14418\n",
      "2012    14076\n",
      "2013    13945\n",
      "2014    13604\n",
      "dtype: int64\n",
      "Year\n",
      "2010    43541\n",
      "2011    37946\n",
      "2012    33205\n",
      "2013    33195\n",
      "2014    30082\n",
      "dtype: int64\n",
      "Year\n",
      "2010    120418\n",
      "2011    111646\n",
      "2012    101328\n",
      "2013     98538\n",
      "2014     94409\n",
      "dtype: int64\n"
     ]
    }
   ],
   "source": [
    "# 3)   Illinois trends for intake, adoption, return to owner, and euthanasia of pets\n",
    "#      - adoption, return to owner, and euthanasia rates\n",
    "#      - dogs, cats, others in own charts, color coded, dashed\n",
    "DogAdoptYears = animal_data.groupby('Year')['DogAdopt'].sum()\n",
    "DogReclaimYears = animal_data.groupby('Year')['DogReclaim'].sum()\n",
    "DogEuthYears = animal_data.groupby('Year')['DogReclaim'].sum()\n",
    "DogRcYears = animal_data.groupby('Year')['DogRec'].sum()\n",
    "#print(DogAdoptYears, DogReclaimYears, DogEuthYears)\n",
    "\n",
    "CatAdoptYears = animal_data.groupby('Year')['CatsAdopt'].sum()\n",
    "CatReclaimYears = animal_data.groupby('Year')['CatsReclaim'].sum()\n",
    "CatEuthYears = animal_data.groupby('Year')['CatEuth'].sum()\n",
    "CatRcYears = animal_data.groupby('Year')['CatRec'].sum()\n",
    "#print(CatAdoptYears, CatReclaimYears, CatEuthYears)\n",
    "\n",
    "OtherAdoptYears = animal_data.groupby('Year')['OtherAdopt'].sum()\n",
    "OtherReclaimYears = animal_data.groupby('Year')['OtherReclaim'].sum()\n",
    "OtherEuthYears = animal_data.groupby('Year')['OtherEuth'].sum()\n",
    "OtherRcYears = animal_data.groupby('Year')['OtherRec'].sum()\n",
    "# print(OtherAdoptYears, OtherReclaimYears, OtherEuthYears)\n",
    "\n",
    "SumAdoptYears = DogAdoptYears + CatAdoptYears + OtherAdoptYears\n",
    "print(SumAdoptYears)\n",
    "\n",
    "SumReclaimYears = DogReclaimYears + CatReclaimYears + OtherReclaimYears\n",
    "print(SumReclaimYears)\n",
    "\n",
    "SumEuthYears = DogEuthYears + CatEuthYears + OtherEuthYears\n",
    "print(SumEuthYears)\n",
    "\n",
    "SumRecYears = DogRcYears + CatRcYears + OtherRcYears\n",
    "print(SumRecYears)"
   ]
  },
  {
   "cell_type": "code",
   "execution_count": 8,
   "metadata": {},
   "outputs": [
    {
     "data": {
      "image/png": "[encoded data removed]",
      "text/plain": [
       "<Figure size 432x288 with 1 Axes>"
      ]
     },
     "metadata": {},
     "output_type": "display_data"
    }
   ],
   "source": [
    "#Line Values \n",
    "GraphEuth = SumEuthYears\n",
    "GraphReclaim = SumReclaimYears\n",
    "GraphAdopt = SumAdoptYears\n",
    "GraphRec = SumRecYears\n",
    "\n",
    "#x Values\n",
    "x_pos = [2010,2011,2012,2013,2014]\n",
    "\n",
    "#plotting on graph\n",
    "plt.plot(GraphAdopt, color='yellowgreen', marker='o', linewidth=4, label='Adopted')\n",
    "plt.plot(GraphReclaim, color='lightskyblue', marker='o', linewidth=2, linestyle = 'dashed', label='Reclaimed by Owner')\n",
    "plt.plot(GraphEuth, color='lightcoral', marker='o', linewidth=4, linestyle = 'dotted', label='Euthanased')\n",
    "#plt.plot(GraphRec, color='lightcoral', linewidth=4, linestyle = 'dotted')\n",
    "\n",
    "#graph lables\n",
    "plt.title = ('Trends Between 2010-2014')\n",
    "plt.xlabel = ('Years')\n",
    "plt.ylabel = ('Number of Animals')\n",
    "plt.xticks(x_pos)\n",
    "#plt.xticks(np.arange(len(years)))\n",
    "#Why aren't the title or labels being shown?\n",
    "plt.legend(loc=\"best\")\n",
    "plt.tight_layout()\n",
    "\n",
    "\n",
    "# # Fake dataset\n",
    "# height = [3, 12, 5, 18, 45]\n",
    "# bars = ('A', 'B', 'C', 'D', 'E')\n",
    "# y_pos = np.arange(len(bars))\n",
    " \n",
    "# # Create bars and choose color\n",
    "# plt.bar(y_pos, height, color = (0.5,0.1,0.5,0.6))\n",
    " \n",
    "# # Add title and axis names\n",
    "# plt.title('My title')\n",
    "# plt.xlabel('categories')\n",
    "# plt.ylabel('values')\n",
    " \n",
    "# # Limits for the Y axis\n",
    "# plt.ylim(0,60)\n",
    " \n",
    "# # Create names\n",
    "# plt.xticks(y_pos, bars)\n",
    " \n",
    "# # Show graphic\n",
    "# plt.show()"
   ]
  },
  {
   "cell_type": "code",
   "execution_count": 9,
   "metadata": {},
   "outputs": [
    {
     "data": {
      "image/png": "[encoded data removed]",
      "text/plain": [
       "<Figure size 432x288 with 1 Axes>"
      ]
     },
     "metadata": {},
     "output_type": "display_data"
    }
   ],
   "source": [
    "#Graph for Dogs\n",
    "# DogAdoptYears = animal_data.groupby('Year')['DogAdopt'].sum()\n",
    "# DogReclaimYears = animal_data.groupby('Year')['DogReclaim'].sum()\n",
    "# DogEuthYears = animal_data.groupby('Year')['DogReclaim'].sum()\n",
    "# print(DogAdoptYears, DogReclaimYears, DogEuthYears)\n",
    "x_pos = [2010,2011,2012,2013,2014]\n",
    "plt.plot(GraphRec, color='blue', marker='o', linewidth=4, label='Intake')\n",
    "plt.title = (\"Trends Between 2010-2014\")\n",
    "plt.xlabel = ('Years')\n",
    "plt.ylim(0,150000)\n",
    "plt.xticks(x_pos)\n",
    "plt.grid()\n",
    "plt.legend(loc=\"best\")\n",
    "plt.tight_layout()\n"
   ]
  },
  {
   "cell_type": "code",
   "execution_count": null,
   "metadata": {},
   "outputs": [],
   "source": [
    "# Run Census Search to retrieve data on all zip codes (2013 ACS5 Census)\n",
    "# See: https://github.com/CommerceDataService/census-wrapper for library documentation\n",
    "# See: https://gist.github.com/afhaque/60558290d6efd892351c4b64e5c01e9b for labels\n",
    "census_data = c.acs5.get((\"NAME\", \"B19013_001E\", \"B01003_001E\", \"B01002_001E\",\n",
    "                          \"B19301_001E\",\n",
    "                          \"B17001_002E\"), {'for': 'zip code tabulation area:*'})\n",
    "\n",
    "# Convert to DataFrame\n",
    "census_pd = pd.DataFrame(census_data)\n",
    "\n",
    "# Column Reordering\n",
    "census_pd = census_pd.rename(columns={\"B01003_001E\": \"Population\",\n",
    "                                      \"B01002_001E\": \"Median Age\",\n",
    "                                      \"B19013_001E\": \"Household Income\",\n",
    "                                      \"B19301_001E\": \"Per Capita Income\",\n",
    "                                      \"B17001_002E\": \"Poverty Count\",\n",
    "                                      \"NAME\": \"Name\", \"zip code tabulation area\": \"Zip\"})\n",
    "\n",
    "# Add in Poverty Rate (Poverty Count / Population)\n",
    "census_pd[\"Poverty Rate\"] = 100 * \\\n",
    "    census_pd[\"Poverty Count\"].astype(\n",
    "        int) / census_pd[\"Population\"].astype(int)\n",
    "\n",
    "# Final DataFrame\n",
    "census_pd = census_pd[[\"Zip\", \"Population\", \"Median Age\", \"Household Income\",\n",
    "                       \"Per Capita Income\", \"Poverty Count\", \"Poverty Rate\"]]\n",
    "\n",
    "\n",
    "# Visualize\n",
    "print(len(census_pd))\n",
    "census_pd.head()"
   ]
  },
  {
   "cell_type": "code",
   "execution_count": null,
   "metadata": {},
   "outputs": [],
   "source": [
    "ShelterCensusMerge = pd.merge(animal_data, census_pd, on='Zip')\n",
    "ShelterCensusMerge.dtypes"
   ]
  },
  {
   "cell_type": "code",
   "execution_count": null,
   "metadata": {},
   "outputs": [],
   "source": [
    "ShelterCensusMerge.plot.scatter(x='Population', y='DogRec', c='Poverty Rate', marker='s')\n",
    "#sds.lmplot(x='Population',y='DogRec',data=ShelterCensusMerge,fit_reg=True)\n",
    "\n",
    "\n",
    "#graph lables\n",
    "plt.xlabel = (\"Population\")\n",
    "\n",
    "\n",
    "plt.tight_layout()"
   ]
  },
  {
   "cell_type": "code",
   "execution_count": null,
   "metadata": {},
   "outputs": [],
   "source": [
    "sds.lmplot(x='Population',y='DogRec',data=ShelterCensusMerge,fit_reg=True)\n",
    "plt.tight_layout"
   ]
  },
  {
   "cell_type": "code",
   "execution_count": null,
   "metadata": {},
   "outputs": [],
   "source": [
    "sds.lmplot(x='Population',y='DogAdopt',data=ShelterCensusMerge,fit_reg=True)\n",
    "plt.show"
   ]
  },
  {
   "cell_type": "code",
   "execution_count": null,
   "metadata": {},
   "outputs": [],
   "source": [
    "ShelterCensusMerge.plot.scatter(x='Poverty Rate', y='DogRec', c='Population', marker='s')\n",
    "#sds.lmplot(x='Population',y='DogRec',data=ShelterCensusMerge,fit_reg=True)\n",
    "\n",
    "\n",
    "#graph lables\n",
    "\n",
    "\n",
    "plt.show\n",
    "\n"
   ]
  },
  {
   "cell_type": "code",
   "execution_count": null,
   "metadata": {},
   "outputs": [],
   "source": [
    "sds.lmplot(x='Poverty Rate',y='DogAdopt',data=ShelterCensusMerge,fit_reg=True)\n",
    "plt.show"
   ]
  },
  {
   "cell_type": "code",
   "execution_count": null,
   "metadata": {},
   "outputs": [],
   "source": [
    "stats.ttest_ind(Population, DogAdopt, equal_var=False)"
   ]
  },
  {
   "cell_type": "code",
   "execution_count": null,
   "metadata": {},
   "outputs": [],
   "source": []
  }
 ],
 "metadata": {
  "kernelspec": {
   "display_name": "Python 3",
   "language": "python",
   "name": "python3"
  },
  "language_info": {
   "codemirror_mode": {
    "name": "ipython",
    "version": 3
   },
   "file_extension": ".py",
   "mimetype": "text/x-python",
   "name": "python",
   "nbconvert_exporter": "python",
   "pygments_lexer": "ipython3",
   "version": "3.6.5"
  }
 },
 "nbformat": 4,
 "nbformat_minor": 2
}
